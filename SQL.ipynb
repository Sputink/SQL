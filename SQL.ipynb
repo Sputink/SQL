{
 "cells": [
  {
   "cell_type": "markdown",
   "metadata": {},
   "source": [
    "# SQL基础概念\n",
    "\n",
    "SQL全称：Structured Query Language （结构化查询语言）\n",
    "\n",
    "SQL功能：存取数据，访问查询、处理数据库\n",
    "\n",
    "数据库：Relational Database 关系型数据库\n",
    "\n",
    "数据库程序：RDBMS（Relational Database Management System），如MySQL，SQL Server等\n",
    "\n",
    "数据库(database)——表（table）——行列、数据"
   ]
  },
  {
   "cell_type": "markdown",
   "metadata": {},
   "source": [
    "# SQL语法\n",
    "例：\n",
    "```sql\n",
    "use database_name; --选择数据库\n",
    "\n",
    "set names utf8; --设置使用的字符集\n",
    "\n",
    "SELECT * FROM table_name; --读取整个数据表\n",
    "\n",
    "```\n",
    "***SQL语句对大小写不敏感，两者等价***\n",
    "\n",
    "***分号（;）是分隔每条SQL语句的方法***\n",
    "\n",
    "SQL语言可以分为：\n",
    "1. **数据操作语言（DML）**：主要包括数据的查询和更新（SELECT/UPDATE/DELETE/INSERT INTO...）\n",
    "2. **数据定义语言（DDL）**：包括创建或删除表格，规定表之间的连接等"
   ]
  },
  {
   "cell_type": "markdown",
   "metadata": {},
   "source": [
    "## SQL SELECT 语句\n",
    "```sql\n",
    "SELECT col_name1, col_name2,... FROM table_name; \n",
    "``` \n",
    "读取数据表中特定几列 \n",
    "```sql \n",
    "SELECT * FROM table_name;\n",
    "```\n",
    "读取整个数据表\n",
    "```sql\n",
    "SELECT DISTINCT col_name1, col_name2,... FROM table_name; \n",
    "```\n",
    "读取特定几列中的不重复值\n",
    "```sql\n",
    "SELECT col_name1,col_name2,... \n",
    "FROM table_name\n",
    "WHERE col_name1 operator value; \n",
    "```\n",
    "字符格式时使用单引号，数值格式不能用\n",
    "\n",
    "特殊operator包括：BETWEEN （范围）；IN（多个可能值）；LIKE（搜索某种模式，用'%'作为通配符）；<>（不等于，某些版本可以写作!=）\n",
    "\n",
    "operator 可以包括逻辑运算 AND/OR/NOT 等\n",
    "```sql\n",
    "SELECT col_name1,col_name2,...\n",
    "FROM table_name\n",
    "ORDER BY col_name1 DESC, col_name2 ASC\n",
    "```\n",
    "ORDER BY 用于排序，默认升序（ ASC ），降序要强调 （ DESC ）\n",
    "\n",
    "```sql\n",
    "SELECT count(*) FROM table_name\n",
    "```\n",
    "计算表格总行数"
   ]
  },
  {
   "cell_type": "markdown",
   "metadata": {},
   "source": [
    "## SQL INSERT INTO 语句\n",
    "```sql\n",
    "INSERT INTO table_name VALUES (value1, vulue2,...)\n",
    "```\n",
    "向数据表插入新的一行\n",
    "```sql\n",
    "INSERT INTO table_name (col_name1, col_name2,...) VALUES (value1, value2,...)\n",
    "```\n",
    "向数据表指定几列插入新的一行数据"
   ]
  },
  {
   "cell_type": "markdown",
   "metadata": {},
   "source": [
    "## SQL UPDATE 语句\n",
    "```sql\n",
    "UPDATE table_name SET col_name1=value1 WHERE col_name2=value2\n",
    "```\n",
    "向col_name2=value2的这一个数据行，添加value1至其col_name1列中"
   ]
  },
  {
   "cell_type": "markdown",
   "metadata": {},
   "source": [
    "## SQL DELETE 语句\n",
    "```sql\n",
    "DELETE \n",
    "FROM table_name\n",
    "WHERE col_name1=value1\n",
    "```\n",
    "删除满足条件col_name1=value1的这一行\n",
    "\n",
    "```sql\n",
    "DELETE FROM table_name \n",
    "\n",
    "DELETE * FROM table_name\n",
    "```\n",
    "删除所有行，表的结构、属性依旧完整"
   ]
  },
  {
   "cell_type": "markdown",
   "metadata": {},
   "source": [
    "## SQL 通配符\n",
    "+ `%`匹配任意长度的字符（可以为0字符）\n",
    "+ `_`只能匹配单个字符（不可为0字符）\n",
    "+ `[]`匹配集合中的一个字符（和_一样也是单字符）"
   ]
  },
  {
   "cell_type": "code",
   "execution_count": null,
   "metadata": {},
   "outputs": [],
   "source": []
  }
 ],
 "metadata": {
  "kernelspec": {
   "display_name": "Python 3",
   "language": "python",
   "name": "python3"
  },
  "language_info": {
   "codemirror_mode": {
    "name": "ipython",
    "version": 3
   },
   "file_extension": ".py",
   "mimetype": "text/x-python",
   "name": "python",
   "nbconvert_exporter": "python",
   "pygments_lexer": "ipython3",
   "version": "3.7.3"
  }
 },
 "nbformat": 4,
 "nbformat_minor": 4
}
